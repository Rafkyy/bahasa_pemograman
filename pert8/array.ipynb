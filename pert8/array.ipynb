{
 "cells": [
  {
   "cell_type": "code",
   "execution_count": null,
   "metadata": {},
   "outputs": [],
   "source": [
    "# GENERAL SET\n",
    "\n",
    "# use curly braces\n",
    "student_set = {'Joni','Lono','Ayu','Siti'}\n",
    "print(student_set)\n"
   ]
  },
  {
   "cell_type": "code",
   "execution_count": null,
   "metadata": {},
   "outputs": [],
   "source": [
    "#\n",
    "\n",
    "set_mix={'man', 'animal', 5, True, ('A','B')}\n",
    "print(set_mix)"
   ]
  },
  {
   "cell_type": "markdown",
   "metadata": {},
   "source": [
    "1. Definition\n",
    "     Array (in python) are structures that"
   ]
  }
 ],
 "metadata": {
  "language_info": {
   "name": "python"
  }
 },
 "nbformat": 4,
 "nbformat_minor": 2
}
